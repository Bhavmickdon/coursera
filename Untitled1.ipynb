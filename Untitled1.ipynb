{
 "cells": [
  {
   "cell_type": "markdown",
   "id": "5d8ab65e-6a6b-454f-b8c4-62e79ccc374d",
   "metadata": {},
   "source": [
    "## Mickoo's notebook"
   ]
  },
  {
   "cell_type": "markdown",
   "id": "fe2ddc59-b27a-420f-a396-2732d0a2299e",
   "metadata": {},
   "source": [
    "### Hi this is the intro"
   ]
  },
  {
   "cell_type": "markdown",
   "id": "c7b85b40-d5d0-4de8-8d9e-f024f72ab3dd",
   "metadata": {},
   "source": [
    "### Data Science Libraries\n",
    "\n",
    "1. **Python:**\n",
    "   - NumPy\n",
    "   - Pandas\n",
    "   - Matplotlib\n",
    "   - Seaborn\n",
    "   - Scikit-learn\n",
    "   - TensorFlow\n",
    "   - Keras\n",
    "   - PyTorch\n",
    "\n",
    "2. **R:**\n",
    "   - ggplot2\n",
    "   - dplyr\n",
    "   - tidyr\n",
    "   - caret\n",
    "   - lubridate\n",
    "   - shiny\n",
    "\n",
    "3. **Others:**\n",
    "   - Julia: Flux, DataFrames\n",
    "   - Scala: Apache Spark\n",
    "   - JavaScript: D3.js\n",
    "   - SQL: SQL Server Machine Learning Services, Oracle Data Mining\n"
   ]
  },
  {
   "cell_type": "markdown",
   "id": "26e8b84c-0184-471b-b3e6-61b39a3d5c7d",
   "metadata": {},
   "source": [
    "| Category      | Tools                         |\n",
    "|---------------|-------------------------------|\n",
    "| Programming   | Python, R, Julia, Scala, SQL |\n",
    "| Data Wrangling| Pandas, dplyr, Data.table    |\n",
    "| Visualization | Matplotlib, ggplot2, Seaborn |\n",
    "| Machine Learning | Scikit-learn, caret, TensorFlow, PyTorch |\n",
    "| Big Data      | Apache Spark, Hadoop, Kafka  |\n",
    "| Database      | SQL Server, MySQL, PostgreSQL|\n"
   ]
  },
  {
   "cell_type": "markdown",
   "id": "785e6c13-f468-4861-be4b-3295dc41b017",
   "metadata": {},
   "source": [
    "Arithmetic expressions involve mathematical operations such as addition, subtraction, multiplication, and division. Here are some examples:\n",
    "\n",
    "- Addition: 5 + 3 = 8\n",
    "- Subtraction: 10 - 4 = 6\n",
    "- Multiplication: 2 * 6 = 12\n",
    "- Division: 15 / 3 = 5\n"
   ]
  },
  {
   "cell_type": "code",
   "execution_count": 4,
   "id": "899c954d-5b7e-4967-9bc6-7f67fe476f4c",
   "metadata": {},
   "outputs": [
    {
     "name": "stdout",
     "output_type": "stream",
     "text": [
      "Multiplication Result: 20\n",
      "Addition Result: 17\n"
     ]
    }
   ],
   "source": [
    "# Multiplication\n",
    "result_mult = 5 * 4\n",
    "print(\"Multiplication Result:\", result_mult)\n",
    "\n",
    "# Addition\n",
    "result_add = 10 + 7\n",
    "print(\"Addition Result:\", result_add)\n"
   ]
  },
  {
   "cell_type": "code",
   "execution_count": 5,
   "id": "2cdf1ce4-371b-4985-84e2-46104076ec73",
   "metadata": {},
   "outputs": [
    {
     "name": "stdout",
     "output_type": "stream",
     "text": [
      "120 minutes is equal to 2.0 hours.\n"
     ]
    }
   ],
   "source": [
    "# Convert minutes to hours\n",
    "minutes = 120\n",
    "hours = minutes / 60\n",
    "print(\"120 minutes is equal to\", hours, \"hours.\")\n"
   ]
  },
  {
   "cell_type": "markdown",
   "id": "ac317719-0bdb-429a-83f4-7a4cd7fa6fb4",
   "metadata": {},
   "source": [
    "### Objectives:\n",
    "1. To understand basic arithmetic operations.\n",
    "2. To learn about data science tools and their categories.\n",
    "3. To practice coding exercises related to arithmetic and data manipulation.\n",
    "4. To enhance skills in Markdown formatting and code execution.\n"
   ]
  },
  {
   "cell_type": "markdown",
   "id": "d2433c16-e8f6-4468-915c-ac2105ab67be",
   "metadata": {},
   "source": [
    "**Author:** Bhavnish Gupta\n"
   ]
  },
  {
   "cell_type": "code",
   "execution_count": null,
   "id": "cffd7920-6186-4c94-a78a-fe83baf47f50",
   "metadata": {},
   "outputs": [],
   "source": []
  }
 ],
 "metadata": {
  "kernelspec": {
   "display_name": "Python 3 (ipykernel)",
   "language": "python",
   "name": "python3"
  },
  "language_info": {
   "codemirror_mode": {
    "name": "ipython",
    "version": 3
   },
   "file_extension": ".py",
   "mimetype": "text/x-python",
   "name": "python",
   "nbconvert_exporter": "python",
   "pygments_lexer": "ipython3",
   "version": "3.12.2"
  }
 },
 "nbformat": 4,
 "nbformat_minor": 5
}
